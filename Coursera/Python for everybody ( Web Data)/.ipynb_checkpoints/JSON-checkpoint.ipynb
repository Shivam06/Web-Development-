{
 "cells": [
  {
   "cell_type": "markdown",
   "metadata": {},
   "source": [
    "** JSON ** can store data in 2 formats namely - nested list and nested dictionary."
   ]
  },
  {
   "cell_type": "code",
   "execution_count": 1,
   "metadata": {
    "collapsed": true
   },
   "outputs": [],
   "source": [
    "import json\n",
    "\n",
    "# In nested list format.\n",
    "info = \"\"\"[{\n",
    "    \"id\" : \"001\",\n",
    "    \"x\" : \"2\",\n",
    "    \"name\" : \"Chuck\"\n",
    "    },\n",
    "    {\n",
    "    \"id\" : \"002\",\n",
    "    \"x\" : \"3\",\n",
    "    \"name\" : \"Shivam\"\n",
    "    }\n",
    "]\"\"\""
   ]
  },
  {
   "cell_type": "code",
   "execution_count": 3,
   "metadata": {
    "collapsed": false
   },
   "outputs": [
    {
     "name": "stdout",
     "output_type": "stream",
     "text": [
      "id : 001\n",
      "x : 2\n",
      "name : Chuck\n",
      "\n",
      "id : 002\n",
      "x : 3\n",
      "name : Shivam\n",
      "\n"
     ]
    }
   ],
   "source": [
    "data = json.loads(info)\n",
    "for i in range(len(data)):\n",
    "    print \"id : \" + data[i][\"id\"]\n",
    "    print \"x : \" + data[i][\"x\"]\n",
    "    print \"name : \" + data[i][\"name\"] + \"\\n\""
   ]
  },
  {
   "cell_type": "code",
   "execution_count": 9,
   "metadata": {
    "collapsed": false
   },
   "outputs": [],
   "source": [
    "# In nested dictionary format.\n",
    "info2 = \"\"\"[{\n",
    "    \"name\" : \"Chuck\",\n",
    "    \"phone\" : {\n",
    "        \"type\" : \"intl\",\n",
    "        \"number\" : \"011-9182345663\"\n",
    "    },\n",
    "    \"profession\" : {\n",
    "        \"type\" : \"full-time\",\n",
    "        \"designation\" : \"engineer\"\n",
    "    }\n",
    "    },\n",
    "    \n",
    "    {\n",
    "    \"name\" : \"Shivam\",\n",
    "    \"phone\" : {\n",
    "        \"type\" : \"dom\",\n",
    "        \"number\" : \"012-34444\"\n",
    "    },\n",
    "    \"profession\" : {\n",
    "        \"type\" : \"part-time\",\n",
    "        \"designation\" : \"engineer\"\n",
    "    }\n",
    "    }\n",
    "]\"\"\"\n",
    "\n",
    "data2 = json.loads(info2)"
   ]
  },
  {
   "cell_type": "code",
   "execution_count": 12,
   "metadata": {
    "collapsed": false
   },
   "outputs": [
    {
     "name": "stdout",
     "output_type": "stream",
     "text": [
      "Chuck\n",
      "011-9182345663\n",
      "full-time engineer\n",
      "\n",
      "Shivam\n",
      "012-34444\n",
      "part-time engineer\n",
      "\n"
     ]
    }
   ],
   "source": [
    "for i in range(len(data2)):\n",
    "    print data2[i][\"name\"]\n",
    "    print data2[i][\"phone\"][\"number\"]\n",
    "    print data2[i][\"profession\"][\"type\"] + \" \" + data2[i][\"profession\"][\"designation\"] + \"\\n\""
   ]
  },
  {
   "cell_type": "code",
   "execution_count": null,
   "metadata": {
    "collapsed": true
   },
   "outputs": [],
   "source": []
  }
 ],
 "metadata": {
  "kernelspec": {
   "display_name": "Python 2",
   "language": "python",
   "name": "python2"
  },
  "language_info": {
   "codemirror_mode": {
    "name": "ipython",
    "version": 2
   },
   "file_extension": ".py",
   "mimetype": "text/x-python",
   "name": "python",
   "nbconvert_exporter": "python",
   "pygments_lexer": "ipython2",
   "version": "2.7.11"
  }
 },
 "nbformat": 4,
 "nbformat_minor": 0
}
