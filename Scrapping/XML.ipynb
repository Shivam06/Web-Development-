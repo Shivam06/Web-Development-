{
 "cells": [
  {
   "cell_type": "code",
   "execution_count": 19,
   "metadata": {
    "collapsed": true
   },
   "outputs": [],
   "source": [
    "import xml.etree.ElementTree as ET"
   ]
  },
  {
   "cell_type": "code",
   "execution_count": 36,
   "metadata": {
    "collapsed": false
   },
   "outputs": [],
   "source": [
    "xml_string = \"\"\"\n",
    "<data>\n",
    "    <country name=\"Liechtenstein\">\n",
    "        <rank>1</rank>\n",
    "        <year>2008</year>\n",
    "        <gdppc>141100</gdppc>\n",
    "        <neighbor name=\"Austria\" direction=\"E\"/>\n",
    "        <neighbor name=\"Switzerland\" direction=\"W\"/>\n",
    "    </country>\n",
    "    <country name=\"Singapore\">\n",
    "        <rank>4</rank>\n",
    "        <year>2011</year>\n",
    "        <gdppc>59900</gdppc>\n",
    "        <neighbor name=\"Malaysia\" direction=\"N\"/>\n",
    "    </country>\n",
    "    <country name=\"Panama\">\n",
    "        <rank>68</rank>\n",
    "        <year>2011</year>\n",
    "        <gdppc>13600</gdppc>\n",
    "        <neighbor name=\"Costa Rica\" direction=\"W\"/>\n",
    "        <neighbor name=\"Colombia\" direction=\"E\"/>\n",
    "    </country>\n",
    "    <year>2016</year>\n",
    "</data>\"\"\""
   ]
  },
  {
   "cell_type": "code",
   "execution_count": 37,
   "metadata": {
    "collapsed": false
   },
   "outputs": [
    {
     "name": "stdout",
     "output_type": "stream",
     "text": [
      "data\n"
     ]
    }
   ],
   "source": [
    "tree = ET.fromstring(xml_string)\n",
    "print tree.tag"
   ]
  },
  {
   "cell_type": "code",
   "execution_count": 38,
   "metadata": {
    "collapsed": false
   },
   "outputs": [
    {
     "name": "stdout",
     "output_type": "stream",
     "text": [
      "Liechtenstein\n",
      "1\n",
      "Singapore\n",
      "4\n",
      "Panama\n",
      "68\n"
     ]
    }
   ],
   "source": [
    "for country in tree.findall(\"country\"):     \n",
    "    print country.get(\"name\")\n",
    "    print country.find(\"rank\").text        "
   ]
  },
  {
   "cell_type": "code",
   "execution_count": 39,
   "metadata": {
    "collapsed": false
   },
   "outputs": [
    {
     "name": "stdout",
     "output_type": "stream",
     "text": [
      "Liechtenstein\n",
      "{'direction': 'E', 'name': 'Austria'}\n",
      "{'direction': 'W', 'name': 'Switzerland'}\n",
      "\n",
      "\n",
      "Singapore\n",
      "{'direction': 'N', 'name': 'Malaysia'}\n",
      "\n",
      "\n",
      "Panama\n",
      "{'direction': 'W', 'name': 'Costa Rica'}\n",
      "{'direction': 'E', 'name': 'Colombia'}\n",
      "\n",
      "\n"
     ]
    }
   ],
   "source": [
    "for country in tree.findall(\"country\"):        # printing all the attributes of a tag in the form of dictionary\n",
    "    print country.get(\"name\")\n",
    "    for neighbor in country.findall(\"neighbor\"):\n",
    "        print neighbor.attrib\n",
    "    print \"\\n\""
   ]
  },
  {
   "cell_type": "code",
   "execution_count": 40,
   "metadata": {
    "collapsed": true
   },
   "outputs": [],
   "source": [
    "rankings = []                # creating a list of countries along with their sorted ranking\n",
    "for country in tree.findall(\"country\"):\n",
    "    r,n = country.find(\"rank\").text, country.get(\"name\")\n",
    "    rankings.append((r,n))"
   ]
  },
  {
   "cell_type": "code",
   "execution_count": 41,
   "metadata": {
    "collapsed": false
   },
   "outputs": [],
   "source": [
    "rankings.sort()"
   ]
  },
  {
   "cell_type": "code",
   "execution_count": 42,
   "metadata": {
    "collapsed": false
   },
   "outputs": [
    {
     "data": {
      "text/plain": [
       "[('1', 'Liechtenstein'), ('4', 'Singapore'), ('68', 'Panama')]"
      ]
     },
     "execution_count": 42,
     "metadata": {},
     "output_type": "execute_result"
    }
   ],
   "source": [
    "rankings"
   ]
  },
  {
   "cell_type": "code",
   "execution_count": 43,
   "metadata": {
    "collapsed": false
   },
   "outputs": [
    {
     "name": "stdout",
     "output_type": "stream",
     "text": [
      "1\n",
      "4\n",
      "68\n"
     ]
    }
   ],
   "source": [
    "for country in tree.findall(\"country\"):\n",
    "\trank = int(country.find('rank').text)\n",
    "\tprint rank\n",
    "\tif rank > 50:\n",
    "\t\ttree.remove(country)        # remove the tag country whose child \"rank\" has value > 50"
   ]
  },
  {
   "cell_type": "code",
   "execution_count": 44,
   "metadata": {
    "collapsed": false
   },
   "outputs": [
    {
     "name": "stdout",
     "output_type": "stream",
     "text": [
      "Liechtenstein\n",
      "Singapore\n"
     ]
    }
   ],
   "source": [
    "for country in tree.findall(\"country\"):\n",
    "    print country.get(\"name\")         # get the value of attribute \"name\""
   ]
  },
  {
   "cell_type": "code",
   "execution_count": 45,
   "metadata": {
    "collapsed": false
   },
   "outputs": [],
   "source": [
    "for country in tree.findall(\"country\"):\n",
    "    country.find(\"rank\").text = str(int(country.find(\"rank\").text) + 1)"
   ]
  },
  {
   "cell_type": "code",
   "execution_count": 46,
   "metadata": {
    "collapsed": false
   },
   "outputs": [
    {
     "name": "stdout",
     "output_type": "stream",
     "text": [
      "2\n",
      "5\n"
     ]
    }
   ],
   "source": [
    "for country in tree.findall(\"country\"):   \n",
    "    print country.find(\"rank\").text         # printing the value between tags (opening and closing)"
   ]
  },
  {
   "cell_type": "code",
   "execution_count": 47,
   "metadata": {
    "collapsed": true
   },
   "outputs": [],
   "source": [
    "for rank in tree.iter(\"rank\"):\n",
    "    rank.set(\"updated\",\"yes\")"
   ]
  },
  {
   "cell_type": "code",
   "execution_count": 48,
   "metadata": {
    "collapsed": false
   },
   "outputs": [
    {
     "name": "stdout",
     "output_type": "stream",
     "text": [
      "{'updated': 'yes'}\n",
      "{'updated': 'yes'}\n"
     ]
    }
   ],
   "source": [
    "for rank in tree.iter(\"rank\"):        # Traversing over all the tags whose name = 'rank'\n",
    "    print rank.attrib"
   ]
  },
  {
   "cell_type": "code",
   "execution_count": 70,
   "metadata": {
    "collapsed": false
   },
   "outputs": [
    {
     "name": "stdout",
     "output_type": "stream",
     "text": [
      "Liechtenstein\n",
      "Singapore\n",
      "None\n"
     ]
    }
   ],
   "source": [
    "for child in tree.findall(\"./*\"):     # Traversing over all the childeren of current tag\n",
    "    print child.get(\"name\")"
   ]
  },
  {
   "cell_type": "code",
   "execution_count": 50,
   "metadata": {
    "collapsed": false
   },
   "outputs": [
    {
     "name": "stdout",
     "output_type": "stream",
     "text": [
      "2008\n",
      "2011\n",
      "2016\n"
     ]
    }
   ],
   "source": [
    "for e in tree.findall(\".//year\"):    # selecting all successor year tag (any level)\n",
    "    print e.text"
   ]
  },
  {
   "cell_type": "code",
   "execution_count": 66,
   "metadata": {
    "collapsed": false
   },
   "outputs": [
    {
     "name": "stdout",
     "output_type": "stream",
     "text": [
      "5\n",
      "2011\n",
      "59900\n",
      "None\n"
     ]
    }
   ],
   "source": [
    "for c in tree.findall(\"*[@name='Singapore']\"):  # Selecting childeren with attribute name = 'Singapore'.\n",
    "    for a in c.findall(\"*\"):\n",
    "        print a.text"
   ]
  },
  {
   "cell_type": "code",
   "execution_count": 69,
   "metadata": {
    "collapsed": false,
    "scrolled": true
   },
   "outputs": [
    {
     "name": "stdout",
     "output_type": "stream",
     "text": [
      "5\n",
      "2011\n",
      "59900\n",
      "{'direction': 'N', 'name': 'Malaysia'}\n"
     ]
    }
   ],
   "source": [
    "for c in tree.findall(\".//year/..[@name='Singapore']\"):    # Selecting tags with attribute with child year and attribute name = 'Sngapore'\n",
    "    for child in c.findall(\"*\"):\n",
    "        if child.text:\n",
    "            print child.text\n",
    "        else:\n",
    "            print child.attrib"
   ]
  },
  {
   "cell_type": "code",
   "execution_count": null,
   "metadata": {
    "collapsed": true
   },
   "outputs": [],
   "source": []
  }
 ],
 "metadata": {
  "kernelspec": {
   "display_name": "Python 2",
   "language": "python",
   "name": "python2"
  },
  "language_info": {
   "codemirror_mode": {
    "name": "ipython",
    "version": 2
   },
   "file_extension": ".py",
   "mimetype": "text/x-python",
   "name": "python",
   "nbconvert_exporter": "python",
   "pygments_lexer": "ipython2",
   "version": "2.7.11"
  }
 },
 "nbformat": 4,
 "nbformat_minor": 0
}
